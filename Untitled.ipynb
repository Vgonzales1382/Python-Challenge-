{
 "cells": [
  {
   "cell_type": "code",
   "execution_count": 137,
   "id": "c5c627bc-81b6-46f5-a4a5-215a7e265a68",
   "metadata": {},
   "outputs": [],
   "source": [
    "import pandas as pd"
   ]
  },
  {
   "cell_type": "code",
   "execution_count": 110,
   "id": "3f963709-1d47-4038-81e1-bad13855b09c",
   "metadata": {},
   "outputs": [
    {
     "data": {
      "text/html": [
       "<div>\n",
       "<style scoped>\n",
       "    .dataframe tbody tr th:only-of-type {\n",
       "        vertical-align: middle;\n",
       "    }\n",
       "\n",
       "    .dataframe tbody tr th {\n",
       "        vertical-align: top;\n",
       "    }\n",
       "\n",
       "    .dataframe thead th {\n",
       "        text-align: right;\n",
       "    }\n",
       "</style>\n",
       "<table border=\"1\" class=\"dataframe\">\n",
       "  <thead>\n",
       "    <tr style=\"text-align: right;\">\n",
       "      <th></th>\n",
       "      <th>Date</th>\n",
       "      <th>Profit/Losses</th>\n",
       "    </tr>\n",
       "  </thead>\n",
       "  <tbody>\n",
       "    <tr>\n",
       "      <th>0</th>\n",
       "      <td>Jan-2010</td>\n",
       "      <td>867884</td>\n",
       "    </tr>\n",
       "    <tr>\n",
       "      <th>1</th>\n",
       "      <td>Feb-2010</td>\n",
       "      <td>984655</td>\n",
       "    </tr>\n",
       "    <tr>\n",
       "      <th>2</th>\n",
       "      <td>Mar-2010</td>\n",
       "      <td>322013</td>\n",
       "    </tr>\n",
       "    <tr>\n",
       "      <th>3</th>\n",
       "      <td>Apr-2010</td>\n",
       "      <td>-69417</td>\n",
       "    </tr>\n",
       "    <tr>\n",
       "      <th>4</th>\n",
       "      <td>May-2010</td>\n",
       "      <td>310503</td>\n",
       "    </tr>\n",
       "  </tbody>\n",
       "</table>\n",
       "</div>"
      ],
      "text/plain": [
       "       Date  Profit/Losses\n",
       "0  Jan-2010         867884\n",
       "1  Feb-2010         984655\n",
       "2  Mar-2010         322013\n",
       "3  Apr-2010         -69417\n",
       "4  May-2010         310503"
      ]
     },
     "execution_count": 110,
     "metadata": {},
     "output_type": "execute_result"
    }
   ],
   "source": [
    "df =pd.read_csv(\"Resources/budget_data.csv\")\n",
    "df.head()\n"
   ]
  },
  {
   "cell_type": "code",
   "execution_count": 111,
   "id": "33ae9816-28bb-49fb-be6c-26d3521359f8",
   "metadata": {},
   "outputs": [
    {
     "data": {
      "text/plain": [
       "86"
      ]
     },
     "execution_count": 111,
     "metadata": {},
     "output_type": "execute_result"
    }
   ],
   "source": [
    "# total number of months included in dataset\n",
    "total_month = df[\"Date\"].count()\n",
    "total_month                    "
   ]
  },
  {
   "cell_type": "code",
   "execution_count": 116,
   "id": "1f124189-fe5e-45c8-9820-391cdb7856b9",
   "metadata": {},
   "outputs": [
    {
     "data": {
      "text/plain": [
       "38382578"
      ]
     },
     "execution_count": 116,
     "metadata": {},
     "output_type": "execute_result"
    }
   ],
   "source": [
    "# the net total amount of \"Profit/losses over the entire period\n",
    "profit_loss_total =df[\"Profit/Losses\"].sum()\n",
    "profit_loss_total"
   ]
  },
  {
   "cell_type": "code",
   "execution_count": 119,
   "id": "c0531e97-12ba-4188-9003-37237479eec6",
   "metadata": {},
   "outputs": [
    {
     "data": {
      "text/plain": [
       "[0,\n",
       " 116771,\n",
       " -662642,\n",
       " -391430,\n",
       " 379920,\n",
       " 212354,\n",
       " 510239,\n",
       " -428211,\n",
       " -821271,\n",
       " 693918,\n",
       " 416278,\n",
       " -974163,\n",
       " 860159,\n",
       " -1115009,\n",
       " 1033048,\n",
       " 95318,\n",
       " -308093,\n",
       " 99052,\n",
       " -521393,\n",
       " 605450,\n",
       " 231727,\n",
       " -65187,\n",
       " -702716,\n",
       " 177975,\n",
       " -1065544,\n",
       " 1926159,\n",
       " -917805,\n",
       " 898730,\n",
       " -334262,\n",
       " -246499,\n",
       " -64055,\n",
       " -1529236,\n",
       " 1497596,\n",
       " 304914,\n",
       " -635801,\n",
       " 398319,\n",
       " -183161,\n",
       " -37864,\n",
       " -253689,\n",
       " 403655,\n",
       " 94168,\n",
       " 306877,\n",
       " -83000,\n",
       " 210462,\n",
       " -2196167,\n",
       " 1465222,\n",
       " -956983,\n",
       " 1838447,\n",
       " -468003,\n",
       " -64602,\n",
       " 206242,\n",
       " -242155,\n",
       " -449079,\n",
       " 315198,\n",
       " 241099,\n",
       " 111540,\n",
       " 365942,\n",
       " -219310,\n",
       " -368665,\n",
       " 409837,\n",
       " 151210,\n",
       " -110244,\n",
       " -341938,\n",
       " -1212159,\n",
       " 683246,\n",
       " -70825,\n",
       " 335594,\n",
       " 417334,\n",
       " -272194,\n",
       " -236462,\n",
       " 657432,\n",
       " -211262,\n",
       " -128237,\n",
       " -1750387,\n",
       " 925441,\n",
       " 932089,\n",
       " -311434,\n",
       " 267252,\n",
       " -1876758,\n",
       " 1733696,\n",
       " 198551,\n",
       " -665765,\n",
       " 693229,\n",
       " -734926,\n",
       " 77242,\n",
       " 532869]"
      ]
     },
     "execution_count": 119,
     "metadata": {},
     "output_type": "execute_result"
    }
   ],
   "source": [
    "# the change in \"Profit/Losses\" over entire period, then find average of change\n",
    "change_per_month = [0]\n",
    "pro_loss =df[\"Profit/Losses\"].to_list()\n",
    "for i in range(1,len(pro_loss)):\n",
    "    diff = pro_loss[i]-pro_loss[i - 1]\n",
    "    change_per_month.append(diff)\n",
    "change_per_month\n"
   ]
  },
  {
   "cell_type": "code",
   "execution_count": 129,
   "id": "ad29be42-2de5-44f1-b73b-e5ad0549b40b",
   "metadata": {},
   "outputs": [],
   "source": [
    "df[\"Difference\"]=change_per_month"
   ]
  },
  {
   "cell_type": "code",
   "execution_count": 130,
   "id": "25af23b3-63e2-41ab-a992-6853000c61cb",
   "metadata": {},
   "outputs": [],
   "source": [
    "average_change = df[\"Difference\"].sum() / 85"
   ]
  },
  {
   "cell_type": "code",
   "execution_count": 131,
   "id": "da572dda-49ee-4908-9e72-d7616c622395",
   "metadata": {},
   "outputs": [],
   "source": [
    "max_change = df[\"Difference\"].max()"
   ]
  },
  {
   "cell_type": "code",
   "execution_count": 128,
   "id": "551d7357-5015-4e29-bc85-f3be6ea08d6d",
   "metadata": {},
   "outputs": [],
   "source": [
    "min_change =df[\"Difference\"].min()"
   ]
  },
  {
   "cell_type": "code",
   "execution_count": 138,
   "id": "052a9509-65d2-47c5-930b-8f4eb7919fec",
   "metadata": {},
   "outputs": [],
   "source": [
    "month = (f'Total Month: {change_per_month}')\n",
    "total = (f'Total: {total_month:,.2f}')\n",
    "average = (f'Average Change: ${average_change:,.2f}')\n",
    "increase = (f'Greatest Profit Increase: ${max_change:,.2f}')\n",
    "decrease = (f'Greatest Profit Decrease: ${min_change:,.2f}')"
   ]
  },
  {
   "cell_type": "code",
   "execution_count": 139,
   "id": "a8cd4a9e-0ef4-4c83-87b9-17e6b8dcb492",
   "metadata": {},
   "outputs": [
    {
     "name": "stdout",
     "output_type": "stream",
     "text": [
      "Analysis ------------------------ Total Month: [0, 116771, -662642, -391430, 379920, 212354, 510239, -428211, -821271, 693918, 416278, -974163, 860159, -1115009, 1033048, 95318, -308093, 99052, -521393, 605450, 231727, -65187, -702716, 177975, -1065544, 1926159, -917805, 898730, -334262, -246499, -64055, -1529236, 1497596, 304914, -635801, 398319, -183161, -37864, -253689, 403655, 94168, 306877, -83000, 210462, -2196167, 1465222, -956983, 1838447, -468003, -64602, 206242, -242155, -449079, 315198, 241099, 111540, 365942, -219310, -368665, 409837, 151210, -110244, -341938, -1212159, 683246, -70825, 335594, 417334, -272194, -236462, 657432, -211262, -128237, -1750387, 925441, 932089, -311434, 267252, -1876758, 1733696, 198551, -665765, 693229, -734926, 77242, 532869] Total: 86.00 Average Change: $-2,315.12 Greatest Profit Increase: $1,926,159.00 Greatest Profit Decrease: $-2,196,167.00\n"
     ]
    }
   ],
   "source": [
    "Analysis = print(\"Analysis\",\"------------------------\",month,total,average,increase,decrease)"
   ]
  },
  {
   "cell_type": "code",
   "execution_count": null,
   "id": "6a2afb3e-a97a-43c5-b845-75ab837445aa",
   "metadata": {},
   "outputs": [],
   "source": []
  },
  {
   "cell_type": "code",
   "execution_count": null,
   "id": "6f231f10-692a-412f-98cf-299ec55cf165",
   "metadata": {},
   "outputs": [],
   "source": []
  }
 ],
 "metadata": {
  "kernelspec": {
   "display_name": "Python 3 (ipykernel)",
   "language": "python",
   "name": "python3"
  },
  "language_info": {
   "codemirror_mode": {
    "name": "ipython",
    "version": 3
   },
   "file_extension": ".py",
   "mimetype": "text/x-python",
   "name": "python",
   "nbconvert_exporter": "python",
   "pygments_lexer": "ipython3",
   "version": "3.9.7"
  }
 },
 "nbformat": 4,
 "nbformat_minor": 5
}
